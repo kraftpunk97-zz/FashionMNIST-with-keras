{
  "nbformat": 4,
  "nbformat_minor": 0,
  "metadata": {
    "colab": {
      "name": "Fashion MNIST with keras.ipynb",
      "provenance": [],
      "collapsed_sections": [],
      "include_colab_link": true
    },
    "kernelspec": {
      "name": "python3",
      "display_name": "Python 3"
    },
    "accelerator": "GPU"
  },
  "cells": [
    {
      "cell_type": "markdown",
      "metadata": {
        "id": "view-in-github",
        "colab_type": "text"
      },
      "source": [
        "<a href=\"https://colab.research.google.com/github/kraftpunk97/FashionMNIST-with-keras/blob/master/Fashion_MNIST_with_keras.ipynb\" target=\"_parent\"><img src=\"https://colab.research.google.com/assets/colab-badge.svg\" alt=\"Open In Colab\"/></a>"
      ]
    },
    {
      "cell_type": "markdown",
      "metadata": {
        "id": "VEINLApNKGSI",
        "colab_type": "text"
      },
      "source": [
        "# Fashion MNIST classification using Keras\n",
        "\n",
        "<p>This notebook is a result of my experimentation with keras, which is something I've been wanting to try for a long time. I don't really like TensorFlow because I feel its way of doing things is way too convoluted. [keras](https://keras.io) is an API that sits on top of TensorFlow and uses a relatively easy-to-understand syntax, so that we don't have to deal with the guts of TensorFlow; keras takes care of it for us.</p><br>\n",
        "\n",
        "<p>In this notebook, we will be tackling the Fashion MNIST dataset. We will be training three increasingly complex CNNs and then we populate our dataset using data augmentation techniques and further train the three models on the augmented dataset.</p><br>\n",
        "\n",
        "We start off by importing our requirerd libraries. They are `tensorflow.keras` for the nerual network, `numpy` for linear algebra and `matplotlib.pyplot` for drawing pretty pictures..."
      ]
    },
    {
      "cell_type": "code",
      "metadata": {
        "id": "cBR7hGemdqh4",
        "colab_type": "code",
        "outputId": "750795b8-5bff-466f-b1b9-f7ccc1be4bef",
        "colab": {
          "base_uri": "https://localhost:8080/",
          "height": 34
        }
      },
      "source": [
        "import tensorflow as tf\n",
        "from tensorflow import keras\n",
        "\n",
        "\n",
        "import numpy as np\n",
        "import matplotlib.pyplot as plt\n",
        "\n",
        "print(tf.__version__)"
      ],
      "execution_count": 0,
      "outputs": [
        {
          "output_type": "stream",
          "text": [
            "1.14.0\n"
          ],
          "name": "stdout"
        }
      ]
    },
    {
      "cell_type": "markdown",
      "metadata": {
        "id": "v9KdrXVBKhWa",
        "colab_type": "text"
      },
      "source": [
        "We download our dataset which can be done easily, thanks to `keras`. We further proceed to divide this dataset into training data and testing data."
      ]
    },
    {
      "cell_type": "code",
      "metadata": {
        "id": "BluF4mo8d9SZ",
        "colab_type": "code",
        "outputId": "1f30ec17-32e9-4b38-e4ff-248ab9d217a3",
        "colab": {
          "base_uri": "https://localhost:8080/",
          "height": 153
        }
      },
      "source": [
        "fashion_mnist = keras.datasets.fashion_mnist\n",
        "(train_images, train_labels), (test_images, test_labels) = fashion_mnist.load_data()"
      ],
      "execution_count": 0,
      "outputs": [
        {
          "output_type": "stream",
          "text": [
            "Downloading data from https://storage.googleapis.com/tensorflow/tf-keras-datasets/train-labels-idx1-ubyte.gz\n",
            "32768/29515 [=================================] - 0s 0us/step\n",
            "Downloading data from https://storage.googleapis.com/tensorflow/tf-keras-datasets/train-images-idx3-ubyte.gz\n",
            "26427392/26421880 [==============================] - 0s 0us/step\n",
            "Downloading data from https://storage.googleapis.com/tensorflow/tf-keras-datasets/t10k-labels-idx1-ubyte.gz\n",
            "8192/5148 [===============================================] - 0s 0us/step\n",
            "Downloading data from https://storage.googleapis.com/tensorflow/tf-keras-datasets/t10k-images-idx3-ubyte.gz\n",
            "4423680/4422102 [==============================] - 0s 0us/step\n"
          ],
          "name": "stdout"
        }
      ]
    },
    {
      "cell_type": "markdown",
      "metadata": {
        "id": "EvZFH_AiKwq2",
        "colab_type": "text"
      },
      "source": [
        "Each unique label value refers to a particular type of clothing item. We assign each type to that value..."
      ]
    },
    {
      "cell_type": "code",
      "metadata": {
        "id": "F5KFV2cdeYBq",
        "colab_type": "code",
        "colab": {}
      },
      "source": [
        "class_names = ['T-shirt/top', 'Trouser', 'Pullover', 'Dress', 'Coat',\n",
        "               'Sandal', 'Shirt', 'Sneaker', 'Bag', 'Ankle boot']\n",
        "\n",
        "num_classes = len(class_names)"
      ],
      "execution_count": 0,
      "outputs": []
    },
    {
      "cell_type": "markdown",
      "metadata": {
        "id": "sVGWj9n0JLZD",
        "colab_type": "text"
      },
      "source": [
        "Further dividing the original training data into actual training data (80%) and  cross validation data (20%)..."
      ]
    },
    {
      "cell_type": "code",
      "metadata": {
        "id": "37-NmolCeVCD",
        "colab_type": "code",
        "outputId": "a5e90cfc-39e1-4ef9-a59b-00979ae0b21d",
        "colab": {
          "base_uri": "https://localhost:8080/",
          "height": 68
        }
      },
      "source": [
        "def gen_train_validation(train_images, train_labels, size=0.8):\n",
        "  train_idx = np.random.choice(len(train_images), np.int(np.floor(size*len(train_images))), replace=False)\n",
        "  cv_idx = [i for i in range(len(train_images)) if i not in train_idx]\n",
        "  train_images_, train_labels_ = train_images[train_idx], train_labels[train_idx]\n",
        "  cv_images, cv_labels = train_images[cv_idx], train_labels[cv_idx]\n",
        "  return train_images_, train_labels_, cv_images, cv_labels\n",
        "\n",
        "\n",
        "train_images, train_labels, cv_images, cv_labels = gen_train_validation(train_images, train_labels)\n",
        "\n",
        "print(\"Shape of training images : {}\".format(train_images.shape))\n",
        "print(\"Shape of Cross Validation images : {}\".format(cv_images.shape))\n",
        "print(\"Shape of testing images : {}\".format(test_images.shape))"
      ],
      "execution_count": 0,
      "outputs": [
        {
          "output_type": "stream",
          "text": [
            "Shape of training images : (48000, 28, 28)\n",
            "Shape of Cross Validation images : (12000, 28, 28)\n",
            "Shape of testing images : (10000, 28, 28)\n"
          ],
          "name": "stdout"
        }
      ]
    },
    {
      "cell_type": "code",
      "metadata": {
        "id": "zGqPyPoqN_3z",
        "colab_type": "code",
        "outputId": "7ba99d25-d4f3-4e8a-ad70-f88174252966",
        "colab": {
          "base_uri": "https://localhost:8080/",
          "height": 34
        }
      },
      "source": [
        "_, image_rows, image_cols = train_images.shape\n",
        "input_shape = (image_rows, image_cols, 1)\n",
        "\n",
        "print(input_shape)"
      ],
      "execution_count": 0,
      "outputs": [
        {
          "output_type": "stream",
          "text": [
            "(28, 28, 1)\n"
          ],
          "name": "stdout"
        }
      ]
    },
    {
      "cell_type": "markdown",
      "metadata": {
        "id": "ntYWdmWWLwuK",
        "colab_type": "text"
      },
      "source": [
        "Visualising a sample image..."
      ]
    },
    {
      "cell_type": "code",
      "metadata": {
        "id": "nQZXlBmAehEq",
        "colab_type": "code",
        "outputId": "ec7876a9-f8b6-422f-af30-5fbb0048fff3",
        "colab": {
          "base_uri": "https://localhost:8080/",
          "height": 286
        }
      },
      "source": [
        "plt.figure()\n",
        "plt.imshow(train_images[0])\n",
        "plt.colorbar()\n",
        "plt.grid(False)\n",
        "plt.show()\n",
        "print(class_names[train_labels[0]])"
      ],
      "execution_count": 0,
      "outputs": [
        {
          "output_type": "display_data",
          "data": {
            "image/png": "[encoded data removed]",
            "text/plain": [
              "<Figure size 432x288 with 2 Axes>"
            ]
          },
          "metadata": {
            "tags": []
          }
        },
        {
          "output_type": "stream",
          "text": [
            "Bag\n"
          ],
          "name": "stdout"
        }
      ]
    },
    {
      "cell_type": "code",
      "metadata": {
        "id": "bn2j_UV7e6vb",
        "colab_type": "code",
        "outputId": "c6a6f157-7b6f-4a5a-85f3-298dcdc0f8af",
        "colab": {
          "base_uri": "https://localhost:8080/",
          "height": 592
        }
      },
      "source": [
        "plt.figure(figsize=(10, 10))\n",
        "for i in range(25):\n",
        "  plt.subplot(5, 5, i+1)\n",
        "  plt.xticks([])\n",
        "  plt.yticks([])\n",
        "  plt.grid(False)\n",
        "  plt.imshow(train_images[i], cmap=plt.cm.binary)\n",
        "  plt.xlabel(class_names[train_labels[i]])\n",
        "plt.show()"
      ],
      "execution_count": 0,
      "outputs": [
        {
          "output_type": "display_data",
          "data": {
            "image/png": "[encoded data removed]",
            "text/plain": [
              "<Figure size 720x720 with 25 Axes>"
            ]
          },
          "metadata": {
            "tags": []
          }
        }
      ]
    },
    {
      "cell_type": "markdown",
      "metadata": {
        "id": "oryTpfmxJkp-",
        "colab_type": "text"
      },
      "source": [
        "Preprocessing the images by appending an extra dimension to the images, because that is something that keras requires us to do..."
      ]
    },
    {
      "cell_type": "code",
      "metadata": {
        "id": "3qRHxw8tqRpf",
        "colab_type": "code",
        "outputId": "09751705-b1f1-4a4e-9a67-c1a2716d685b",
        "colab": {
          "base_uri": "https://localhost:8080/",
          "height": 68
        }
      },
      "source": [
        "def preprocess(images):\n",
        "  return images.reshape((len(images), image_rows, image_cols, 1))\n",
        "\n",
        "train_images = preprocess(train_images)\n",
        "cv_images = preprocess(cv_images)\n",
        "test_images = preprocess(test_images)\n",
        "\n",
        "print(\"Shape of training images : {}\".format(train_images.shape))\n",
        "print(\"Shape of Cross Validation images : {}\".format(cv_images.shape))\n",
        "print(\"Shape of testing images : {}\".format(test_images.shape))"
      ],
      "execution_count": 0,
      "outputs": [
        {
          "output_type": "stream",
          "text": [
            "Shape of training images : (48000, 28, 28, 1)\n",
            "Shape of Cross Validation images : (12000, 28, 28, 1)\n",
            "Shape of testing images : (10000, 28, 28, 1)\n"
          ],
          "name": "stdout"
        }
      ]
    },
    {
      "cell_type": "markdown",
      "metadata": {
        "id": "vIJMkBITJwdW",
        "colab_type": "text"
      },
      "source": [
        "Scaling the values of the individual pixels from 0->255 to 0->1 for reduced computational complexity.."
      ]
    },
    {
      "cell_type": "code",
      "metadata": {
        "id": "exboEquEH1xl",
        "colab_type": "code",
        "colab": {}
      },
      "source": [
        "train_images = train_images.astype('float32') / 255\n",
        "cv_images = cv_images.astype('float32') / 255\n",
        "test_images = test_images.astype('float32') / 255"
      ],
      "execution_count": 0,
      "outputs": []
    },
    {
      "cell_type": "markdown",
      "metadata": {
        "id": "-Nv04i9qw4oW",
        "colab_type": "text"
      },
      "source": [
        "## Utilites\n",
        "\n",
        "In this section, we define a few utilites that will help us better understand our model and the results of the training process."
      ]
    },
    {
      "cell_type": "code",
      "metadata": {
        "id": "gWZVNgN7w3av",
        "colab_type": "code",
        "colab": {}
      },
      "source": [
        "# Prints the summary of the neural network and its constituent layers...\n",
        "def print_summary(section):\n",
        "  print(\"\\n\\n\\n{} summary--\".format(section.name))\n",
        "  section.summary()\n",
        "\n",
        "# Plots the results of training process. We plot two graphs in which we compare\n",
        "# the training and CV loss and training and CV accuracy\n",
        "def plot_progress(history_cnn):\n",
        "  acc = history_cnn.history['acc']\n",
        "  val_acc = history_cnn.history['val_acc']\n",
        "  loss = history_cnn.history['loss']\n",
        "  val_loss = history_cnn.history['val_loss']\n",
        "  \n",
        "  epochs = range(len(acc))\n",
        "  \n",
        "  plt.plot(epochs, acc, \"r\", label=\"Training accuracy\")\n",
        "  plt.plot(epochs, val_acc, \"b\", label=\"Validation accuracy\")\n",
        "  plt.legend()\n",
        "  plt.figure()\n",
        "  \n",
        "  plt.plot(epochs, loss, \"r\", label=\"Training loss\")\n",
        "  plt.plot(epochs, val_loss, \"b\", label=\"Validation loss\")\n",
        "  plt.legend()\n",
        "  plt.show()\n",
        "\n",
        "  \n",
        "# This helper function will help us see the variation in a metric across various\n",
        "# models...\n",
        "def plot_metric_across_models(histories, metric, colors):\n",
        "  metric_collection = [history.history[metric] for history in histories]\n",
        "  \n",
        "  epochs = range(len(metric_collection[0]))\n",
        "  \n",
        "  for history, metric_arr, color in zip(histories, metric_collection, colors):\n",
        "    plt.plot(epochs, metric_arr, color, label=history.model.name)\n",
        "  \n",
        "  plt.xlabel(\"#epochs\")\n",
        "  plt.ylabel(metric)\n",
        "  plt.legend()\n",
        "  plt.show()"
      ],
      "execution_count": 0,
      "outputs": []
    },
    {
      "cell_type": "markdown",
      "metadata": {
        "id": "CkavF9-20ZBc",
        "colab_type": "text"
      },
      "source": [
        "## Hyperparameters\n",
        "\n",
        "We use this opportunity to define our hyperparameters. Each model will be trained for 100 epochs and in batches of 256."
      ]
    },
    {
      "cell_type": "code",
      "metadata": {
        "id": "cFo8EQdN0vNX",
        "colab_type": "code",
        "colab": {}
      },
      "source": [
        "epochs = 20\n",
        "batch_size = 256"
      ],
      "execution_count": 0,
      "outputs": []
    },
    {
      "cell_type": "markdown",
      "metadata": {
        "id": "RkQLwycwMYjJ",
        "colab_type": "text"
      },
      "source": [
        "## 1-Conv CNN (`model_cnn1`)\n",
        "\n",
        "We describe a model that contains only one Convolution layer. We will use the ReLU activation function and use Maxpooling to summarise the patches of the feature maps and to downsample the features. We use the DropOut method to regularize our model. Following is a brief summary of the model...\n",
        "\n",
        "(`conv_layer11`)\\[ Conv ---> MaxPool ----> DropOut] ----><br>\n",
        "Unroll ----><br>\n",
        "(`dense_layer11`)\\[ Dense -----> Dense ]"
      ]
    },
    {
      "cell_type": "code",
      "metadata": {
        "id": "SvK6aPNgflFr",
        "colab_type": "code",
        "outputId": "8b3d18a1-0820-43c6-f5ed-c6341370ba7e",
        "colab": {
          "base_uri": "https://localhost:8080/",
          "height": 1000
        }
      },
      "source": [
        "conv_layer11 = keras.Sequential([\n",
        "    # Convolutional layers\n",
        "    keras.layers.Conv2D(32, kernel_size=(3, 3), activation=\"relu\", input_shape=input_shape),\n",
        "    keras.layers.MaxPooling2D(pool_size=(2, 2)),\n",
        "    keras.layers.Dropout(0.2)\n",
        "], name=\"conv_layer11\")\n",
        "\n",
        "\n",
        "dense_layer11 = keras.Sequential([\n",
        "    keras.layers.Dense(128, activation=tf.nn.relu),\n",
        "    keras.layers.Dense(num_classes, activation=tf.nn.softmax)\n",
        "], name=\"dense_layer11\")\n",
        "\n",
        "model_cnn1 = keras.Sequential([\n",
        "    # Convolutional layers\n",
        "    conv_layer11,\n",
        "    # Unrolling...\n",
        "    keras.layers.Flatten(),\n",
        "    \n",
        "    # Feeding the unrolled vector to the FC layers...\n",
        "    dense_layer11\n",
        "], name=\"model_cnn1\")\n",
        "\n",
        "print_summary(conv_layer11)\n",
        "print_summary(dense_layer11)\n",
        "print_summary(model_cnn1)"
      ],
      "execution_count": 0,
      "outputs": [
        {
          "output_type": "stream",
          "text": [
            "WARNING: Logging before flag parsing goes to stderr.\n",
            "W0729 13:41:07.288446 140143421663104 deprecation.py:506] From /usr/local/lib/python3.6/dist-packages/tensorflow/python/ops/init_ops.py:1251: calling VarianceScaling.__init__ (from tensorflow.python.ops.init_ops) with dtype is deprecated and will be removed in a future version.\n",
            "Instructions for updating:\n",
            "Call initializer instance with the dtype argument instead of passing it to the constructor\n"
          ],
          "name": "stderr"
        },
        {
          "output_type": "stream",
          "text": [
            "\n",
            "\n",
            "\n",
            "conv_layer11 summary--\n",
            "Model: \"conv_layer11\"\n",
            "_________________________________________________________________\n",
            "Layer (type)                 Output Shape              Param #   \n",
            "=================================================================\n",
            "conv2d (Conv2D)              (None, 26, 26, 32)        320       \n",
            "_________________________________________________________________\n",
            "max_pooling2d (MaxPooling2D) (None, 13, 13, 32)        0         \n",
            "_________________________________________________________________\n",
            "dropout (Dropout)            (None, 13, 13, 32)        0         \n",
            "=================================================================\n",
            "Total params: 320\n",
            "Trainable params: 320\n",
            "Non-trainable params: 0\n",
            "_________________________________________________________________\n",
            "\n",
            "\n",
            "\n",
            "dense_layer11 summary--\n",
            "Model: \"dense_layer11\"\n",
            "_________________________________________________________________\n",
            "Layer (type)                 Output Shape              Param #   \n",
            "=================================================================\n",
            "dense (Dense)                (None, 128)               692352    \n",
            "_________________________________________________________________\n",
            "dense_1 (Dense)              (None, 10)                1290      \n",
            "=================================================================\n",
            "Total params: 693,642\n",
            "Trainable params: 693,642\n",
            "Non-trainable params: 0\n",
            "_________________________________________________________________\n",
            "\n",
            "\n",
            "\n",
            "model_cnn1 summary--\n",
            "Model: \"model_cnn1\"\n",
            "_________________________________________________________________\n",
            "Layer (type)                 Output Shape              Param #   \n",
            "=================================================================\n",
            "conv_layer11 (Sequential)    (None, 13, 13, 32)        320       \n",
            "_________________________________________________________________\n",
            "flatten (Flatten)            (None, 5408)              0         \n",
            "_________________________________________________________________\n",
            "dense_layer11 (Sequential)   (None, 10)                693642    \n",
            "=================================================================\n",
            "Total params: 693,962\n",
            "Trainable params: 693,962\n",
            "Non-trainable params: 0\n",
            "_________________________________________________________________\n"
          ],
          "name": "stdout"
        }
      ]
    },
    {
      "cell_type": "markdown",
      "metadata": {
        "id": "GgU7Vq-KSr0O",
        "colab_type": "text"
      },
      "source": [
        "We'll be using the ADAM optimizer to reduce the loss of the model. The calculated loss is the crossentropy loss; `sparse_categorical_crossentropy` loss to be exact. We use this loss as opposed to your `categorical_crossentropy` loss because our targets are integers. Had our targets been one-hot encoded vectors, we would have used `categorical_crossentropy`."
      ]
    },
    {
      "cell_type": "code",
      "metadata": {
        "id": "7bptPEXWgQkN",
        "colab_type": "code",
        "outputId": "bb6945f9-d53d-408b-ea96-c1b69b50a286",
        "colab": {
          "base_uri": "https://localhost:8080/",
          "height": 714
        }
      },
      "source": [
        "model_cnn1.compile(optimizer=\"adam\", loss=\"sparse_categorical_crossentropy\", metrics=[\"accuracy\"])\n",
        "\n",
        "history_cnn1 = model_cnn1.fit(train_images, train_labels, epochs=epochs, \n",
        "                              validation_data=(cv_images, cv_labels), batch_size=batch_size)"
      ],
      "execution_count": 0,
      "outputs": [
        {
          "output_type": "stream",
          "text": [
            "Train on 48000 samples, validate on 12000 samples\n",
            "Epoch 1/20\n",
            "48000/48000 [==============================] - 5s 114us/sample - loss: 0.5352 - acc: 0.8154 - val_loss: 0.3799 - val_acc: 0.8656\n",
            "Epoch 2/20\n",
            "48000/48000 [==============================] - 1s 24us/sample - loss: 0.3497 - acc: 0.8771 - val_loss: 0.3321 - val_acc: 0.8827\n",
            "Epoch 3/20\n",
            "48000/48000 [==============================] - 1s 23us/sample - loss: 0.3035 - acc: 0.8932 - val_loss: 0.3055 - val_acc: 0.8917\n",
            "Epoch 4/20\n",
            "48000/48000 [==============================] - 1s 23us/sample - loss: 0.2769 - acc: 0.9019 - val_loss: 0.2873 - val_acc: 0.8982\n",
            "Epoch 5/20\n",
            "48000/48000 [==============================] - 1s 23us/sample - loss: 0.2579 - acc: 0.9069 - val_loss: 0.2802 - val_acc: 0.9014\n",
            "Epoch 6/20\n",
            "48000/48000 [==============================] - 1s 23us/sample - loss: 0.2432 - acc: 0.9120 - val_loss: 0.2794 - val_acc: 0.9012\n",
            "Epoch 7/20\n",
            "48000/48000 [==============================] - 1s 23us/sample - loss: 0.2280 - acc: 0.9176 - val_loss: 0.2670 - val_acc: 0.9058\n",
            "Epoch 8/20\n",
            "48000/48000 [==============================] - 1s 23us/sample - loss: 0.2150 - acc: 0.9216 - val_loss: 0.2526 - val_acc: 0.9092\n",
            "Epoch 9/20\n",
            "48000/48000 [==============================] - 1s 23us/sample - loss: 0.2023 - acc: 0.9264 - val_loss: 0.2548 - val_acc: 0.9086\n",
            "Epoch 10/20\n",
            "48000/48000 [==============================] - 1s 23us/sample - loss: 0.1933 - acc: 0.9308 - val_loss: 0.2569 - val_acc: 0.9107\n",
            "Epoch 11/20\n",
            "48000/48000 [==============================] - 1s 23us/sample - loss: 0.1832 - acc: 0.9334 - val_loss: 0.2509 - val_acc: 0.9137\n",
            "Epoch 12/20\n",
            "48000/48000 [==============================] - 1s 24us/sample - loss: 0.1791 - acc: 0.9341 - val_loss: 0.2489 - val_acc: 0.9112\n",
            "Epoch 13/20\n",
            "48000/48000 [==============================] - 1s 24us/sample - loss: 0.1691 - acc: 0.9368 - val_loss: 0.2587 - val_acc: 0.9062\n",
            "Epoch 14/20\n",
            "48000/48000 [==============================] - 1s 23us/sample - loss: 0.1570 - acc: 0.9421 - val_loss: 0.2428 - val_acc: 0.9168\n",
            "Epoch 15/20\n",
            "48000/48000 [==============================] - 1s 23us/sample - loss: 0.1521 - acc: 0.9435 - val_loss: 0.2445 - val_acc: 0.9170\n",
            "Epoch 16/20\n",
            "48000/48000 [==============================] - 1s 23us/sample - loss: 0.1450 - acc: 0.9474 - val_loss: 0.2449 - val_acc: 0.9175\n",
            "Epoch 17/20\n",
            "48000/48000 [==============================] - 1s 23us/sample - loss: 0.1377 - acc: 0.9496 - val_loss: 0.2460 - val_acc: 0.9148\n",
            "Epoch 18/20\n",
            "48000/48000 [==============================] - 1s 23us/sample - loss: 0.1296 - acc: 0.9534 - val_loss: 0.2498 - val_acc: 0.9184\n",
            "Epoch 19/20\n",
            "48000/48000 [==============================] - 1s 23us/sample - loss: 0.1274 - acc: 0.9534 - val_loss: 0.2485 - val_acc: 0.9181\n",
            "Epoch 20/20\n",
            "48000/48000 [==============================] - 1s 23us/sample - loss: 0.1174 - acc: 0.9571 - val_loss: 0.2552 - val_acc: 0.9178\n"
          ],
          "name": "stdout"
        }
      ]
    },
    {
      "cell_type": "code",
      "metadata": {
        "id": "dq0NMI4xgYez",
        "colab_type": "code",
        "outputId": "b75f3dee-5eed-48a5-daf2-3a1208674860",
        "colab": {
          "base_uri": "https://localhost:8080/",
          "height": 119
        }
      },
      "source": [
        "cv_loss, cv_acc = model_cnn1.evaluate(cv_images, cv_labels)\n",
        "train_loss, train_acc = model_cnn1.evaluate(train_images, train_labels)\n",
        "\n",
        "print(\"Training loss\", train_loss)\n",
        "print(\"Cross Validation loss: \", cv_loss)\n",
        "print(\"Training accuracy\", train_acc)\n",
        "print(\"Cross Validation accuracy: \", cv_acc)"
      ],
      "execution_count": 0,
      "outputs": [
        {
          "output_type": "stream",
          "text": [
            "12000/12000 [==============================] - 1s 44us/sample - loss: 0.2552 - acc: 0.9178\n",
            "48000/48000 [==============================] - 2s 44us/sample - loss: 0.0876 - acc: 0.9707\n",
            "Training loss 0.08760866949846968\n",
            "Cross Validation loss:  0.25521306225160756\n",
            "Training accuracy 0.9706875\n",
            "Cross Validation accuracy:  0.91775\n"
          ],
          "name": "stdout"
        }
      ]
    },
    {
      "cell_type": "markdown",
      "metadata": {
        "id": "v94I3JcbU3Hq",
        "colab_type": "text"
      },
      "source": [
        "After 20 epochs of training, our model achieves 94.6% accuracy on the training images and 92.1% accuracy on the Cross-validation set. "
      ]
    },
    {
      "cell_type": "code",
      "metadata": {
        "id": "ihRXggdb6wRv",
        "colab_type": "code",
        "outputId": "f5ccd98f-1908-4739-a1b2-523d9685be46",
        "colab": {
          "base_uri": "https://localhost:8080/",
          "height": 521
        }
      },
      "source": [
        "plot_progress(history_cnn1)"
      ],
      "execution_count": 0,
      "outputs": [
        {
          "output_type": "display_data",
          "data": {
            "image/png": "[encoded data removed]",
            "text/plain": [
              "<Figure size 432x288 with 1 Axes>"
            ]
          },
          "metadata": {
            "tags": []
          }
        },
        {
          "output_type": "display_data",
          "data": {
            "image/png": "[encoded data removed]",
            "text/plain": [
              "<Figure size 432x288 with 1 Axes>"
            ]
          },
          "metadata": {
            "tags": []
          }
        }
      ]
    },
    {
      "cell_type": "markdown",
      "metadata": {
        "id": "1H3mRiSdVQ9j",
        "colab_type": "text"
      },
      "source": [
        "Next we try a different model and see if we achieve different results...\n",
        "\n",
        "\n",
        "\n",
        "## 3-Conv CNN (`model_cnn2`)\n",
        "\n",
        "In this model, we'll be using three Convolution layers. The sequence is...\n",
        "\n",
        "(`conv_layer21`)\\[ Conv ---> MaxPool ---> DropOut] ---><br>\n",
        "(`conv_layer22`)\\[ Conv ---> MaxPool ---> DropOut] ---><br>\n",
        "(`conv_layer23`)\\[ Conv ---> DropOut] ---><br>\n",
        "Unroll ---><br>\n",
        "(`dense_layer21`)\\[ Dense ----> DropOut ] ---><br>\n",
        "(`dense_layer22`)\\[ Dense ]"
      ]
    },
    {
      "cell_type": "code",
      "metadata": {
        "id": "mc7fm9OPkeLI",
        "colab_type": "code",
        "outputId": "abd021c4-611a-42b3-a0a9-c0f1329b3f7b",
        "colab": {
          "base_uri": "https://localhost:8080/",
          "height": 1000
        }
      },
      "source": [
        "conv_layer21 = keras.Sequential([\n",
        "    keras.layers.Conv2D(32, kernel_size=(3, 3), activation=\"relu\", input_shape=input_shape),\n",
        "    keras.layers.MaxPooling2D(pool_size=(2, 2)),\n",
        "    keras.layers.Dropout(0.25)\n",
        "], name=\"conv_layer21\")\n",
        "\n",
        "conv_layer22 = keras.Sequential([\n",
        "    keras.layers.Conv2D(64, kernel_size=(3, 3), activation='relu'),\n",
        "    keras.layers.MaxPooling2D(pool_size=(2, 2)),\n",
        "    keras.layers.Dropout(0.25)\n",
        "], name=\"conv_layer22\")\n",
        "\n",
        "conv_layer23 = keras.Sequential([\n",
        "    keras.layers.Conv2D(128, kernel_size=(3, 3), activation='relu'),\n",
        "    keras.layers.Dropout(0.4)\n",
        "], name=\"conv_layer23\")\n",
        "\n",
        "dense_layer21 = keras.Sequential([\n",
        "    keras.layers.Dense(128, activation=\"relu\"),\n",
        "    keras.layers.Dropout(0.3)\n",
        "], name=\"dense_layer21\")\n",
        "\n",
        "dense_layer22 = keras.Sequential([\n",
        "    keras.layers.Dense(10, activation=\"softmax\")  \n",
        "], name=\"dense_layer22\")\n",
        "\n",
        "model_cnn2 = keras.Sequential([\n",
        "    # Conv layers...\n",
        "    conv_layer21,\n",
        "    conv_layer22,\n",
        "    conv_layer23,\n",
        "    \n",
        "    # Unrolling...\n",
        "    keras.layers.Flatten(),\n",
        "    \n",
        "    # Dense layer\n",
        "    dense_layer21,\n",
        "    dense_layer22\n",
        "], name=\"model_cnn2\")\n",
        "\n",
        "print_summary(conv_layer21)\n",
        "print_summary(conv_layer22)\n",
        "print_summary(conv_layer23)\n",
        "print_summary(dense_layer21)\n",
        "print_summary(dense_layer22)\n",
        "print_summary(model_cnn2)"
      ],
      "execution_count": 0,
      "outputs": [
        {
          "output_type": "stream",
          "text": [
            "\n",
            "\n",
            "\n",
            "conv_layer21 summary--\n",
            "Model: \"conv_layer21\"\n",
            "_________________________________________________________________\n",
            "Layer (type)                 Output Shape              Param #   \n",
            "=================================================================\n",
            "conv2d_1 (Conv2D)            (None, 26, 26, 32)        320       \n",
            "_________________________________________________________________\n",
            "max_pooling2d_1 (MaxPooling2 (None, 13, 13, 32)        0         \n",
            "_________________________________________________________________\n",
            "dropout_1 (Dropout)          (None, 13, 13, 32)        0         \n",
            "=================================================================\n",
            "Total params: 320\n",
            "Trainable params: 320\n",
            "Non-trainable params: 0\n",
            "_________________________________________________________________\n",
            "\n",
            "\n",
            "\n",
            "conv_layer22 summary--\n",
            "Model: \"conv_layer22\"\n",
            "_________________________________________________________________\n",
            "Layer (type)                 Output Shape              Param #   \n",
            "=================================================================\n",
            "conv2d_2 (Conv2D)            (None, 11, 11, 64)        18496     \n",
            "_________________________________________________________________\n",
            "max_pooling2d_2 (MaxPooling2 (None, 5, 5, 64)          0         \n",
            "_________________________________________________________________\n",
            "dropout_2 (Dropout)          (None, 5, 5, 64)          0         \n",
            "=================================================================\n",
            "Total params: 18,496\n",
            "Trainable params: 18,496\n",
            "Non-trainable params: 0\n",
            "_________________________________________________________________\n",
            "\n",
            "\n",
            "\n",
            "conv_layer23 summary--\n",
            "Model: \"conv_layer23\"\n",
            "_________________________________________________________________\n",
            "Layer (type)                 Output Shape              Param #   \n",
            "=================================================================\n",
            "conv2d_3 (Conv2D)            (None, 3, 3, 128)         73856     \n",
            "_________________________________________________________________\n",
            "dropout_3 (Dropout)          (None, 3, 3, 128)         0         \n",
            "=================================================================\n",
            "Total params: 73,856\n",
            "Trainable params: 73,856\n",
            "Non-trainable params: 0\n",
            "_________________________________________________________________\n",
            "\n",
            "\n",
            "\n",
            "dense_layer21 summary--\n",
            "Model: \"dense_layer21\"\n",
            "_________________________________________________________________\n",
            "Layer (type)                 Output Shape              Param #   \n",
            "=================================================================\n",
            "dense_2 (Dense)              (None, 128)               147584    \n",
            "_________________________________________________________________\n",
            "dropout_4 (Dropout)          (None, 128)               0         \n",
            "=================================================================\n",
            "Total params: 147,584\n",
            "Trainable params: 147,584\n",
            "Non-trainable params: 0\n",
            "_________________________________________________________________\n",
            "\n",
            "\n",
            "\n",
            "dense_layer22 summary--\n",
            "Model: \"dense_layer22\"\n",
            "_________________________________________________________________\n",
            "Layer (type)                 Output Shape              Param #   \n",
            "=================================================================\n",
            "dense_3 (Dense)              (None, 10)                1290      \n",
            "=================================================================\n",
            "Total params: 1,290\n",
            "Trainable params: 1,290\n",
            "Non-trainable params: 0\n",
            "_________________________________________________________________\n",
            "\n",
            "\n",
            "\n",
            "model_cnn2 summary--\n",
            "Model: \"model_cnn2\"\n",
            "_________________________________________________________________\n",
            "Layer (type)                 Output Shape              Param #   \n",
            "=================================================================\n",
            "conv_layer21 (Sequential)    (None, 13, 13, 32)        320       \n",
            "_________________________________________________________________\n",
            "conv_layer22 (Sequential)    (None, 5, 5, 64)          18496     \n",
            "_________________________________________________________________\n",
            "conv_layer23 (Sequential)    (None, 3, 3, 128)         73856     \n",
            "_________________________________________________________________\n",
            "flatten_1 (Flatten)          (None, 1152)              0         \n",
            "_________________________________________________________________\n",
            "dense_layer21 (Sequential)   (None, 128)               147584    \n",
            "_________________________________________________________________\n",
            "dense_layer22 (Sequential)   (None, 10)                1290      \n",
            "=================================================================\n",
            "Total params: 241,546\n",
            "Trainable params: 241,546\n",
            "Non-trainable params: 0\n",
            "_________________________________________________________________\n"
          ],
          "name": "stdout"
        }
      ]
    },
    {
      "cell_type": "code",
      "metadata": {
        "id": "LWMYMksikeHa",
        "colab_type": "code",
        "outputId": "0ca568a1-186b-498c-b93c-59e3e3a4109e",
        "colab": {
          "base_uri": "https://localhost:8080/",
          "height": 714
        }
      },
      "source": [
        "model_cnn2.compile(loss=\"sparse_categorical_crossentropy\", optimizer=\"adam\", metrics=[\"accuracy\"])\n",
        "\n",
        "history_cnn2 = model_cnn2.fit(train_images, train_labels, epochs=epochs, \n",
        "                              validation_data=(cv_images, cv_labels), batch_size=batch_size)"
      ],
      "execution_count": 0,
      "outputs": [
        {
          "output_type": "stream",
          "text": [
            "Train on 48000 samples, validate on 12000 samples\n",
            "Epoch 1/20\n",
            "48000/48000 [==============================] - 2s 42us/sample - loss: 0.8738 - acc: 0.6692 - val_loss: 0.5605 - val_acc: 0.7862\n",
            "Epoch 2/20\n",
            "48000/48000 [==============================] - 2s 33us/sample - loss: 0.5445 - acc: 0.7943 - val_loss: 0.4502 - val_acc: 0.8307\n",
            "Epoch 3/20\n",
            "48000/48000 [==============================] - 2s 33us/sample - loss: 0.4706 - acc: 0.8232 - val_loss: 0.4017 - val_acc: 0.8493\n",
            "Epoch 4/20\n",
            "48000/48000 [==============================] - 2s 33us/sample - loss: 0.4230 - acc: 0.8447 - val_loss: 0.3538 - val_acc: 0.8690\n",
            "Epoch 5/20\n",
            "48000/48000 [==============================] - 2s 33us/sample - loss: 0.3889 - acc: 0.8569 - val_loss: 0.3248 - val_acc: 0.8798\n",
            "Epoch 6/20\n",
            "48000/48000 [==============================] - 2s 33us/sample - loss: 0.3643 - acc: 0.8646 - val_loss: 0.3051 - val_acc: 0.8852\n",
            "Epoch 7/20\n",
            "48000/48000 [==============================] - 2s 33us/sample - loss: 0.3450 - acc: 0.8718 - val_loss: 0.2943 - val_acc: 0.8884\n",
            "Epoch 8/20\n",
            "48000/48000 [==============================] - 2s 33us/sample - loss: 0.3324 - acc: 0.8784 - val_loss: 0.2870 - val_acc: 0.8917\n",
            "Epoch 9/20\n",
            "48000/48000 [==============================] - 2s 33us/sample - loss: 0.3170 - acc: 0.8840 - val_loss: 0.2819 - val_acc: 0.8953\n",
            "Epoch 10/20\n",
            "48000/48000 [==============================] - 2s 33us/sample - loss: 0.3055 - acc: 0.8888 - val_loss: 0.2640 - val_acc: 0.8994\n",
            "Epoch 11/20\n",
            "48000/48000 [==============================] - 2s 33us/sample - loss: 0.2982 - acc: 0.8909 - val_loss: 0.2639 - val_acc: 0.9017\n",
            "Epoch 12/20\n",
            "48000/48000 [==============================] - 2s 33us/sample - loss: 0.2898 - acc: 0.8945 - val_loss: 0.2563 - val_acc: 0.9037\n",
            "Epoch 13/20\n",
            "48000/48000 [==============================] - 2s 33us/sample - loss: 0.2795 - acc: 0.8970 - val_loss: 0.2548 - val_acc: 0.9061\n",
            "Epoch 14/20\n",
            "48000/48000 [==============================] - 2s 33us/sample - loss: 0.2785 - acc: 0.8982 - val_loss: 0.2486 - val_acc: 0.9054\n",
            "Epoch 15/20\n",
            "48000/48000 [==============================] - 2s 33us/sample - loss: 0.2694 - acc: 0.9015 - val_loss: 0.2405 - val_acc: 0.9107\n",
            "Epoch 16/20\n",
            "48000/48000 [==============================] - 2s 33us/sample - loss: 0.2647 - acc: 0.9026 - val_loss: 0.2353 - val_acc: 0.9124\n",
            "Epoch 17/20\n",
            "48000/48000 [==============================] - 2s 33us/sample - loss: 0.2587 - acc: 0.9039 - val_loss: 0.2407 - val_acc: 0.9090\n",
            "Epoch 18/20\n",
            "48000/48000 [==============================] - 2s 33us/sample - loss: 0.2526 - acc: 0.9055 - val_loss: 0.2361 - val_acc: 0.9113\n",
            "Epoch 19/20\n",
            "48000/48000 [==============================] - 2s 33us/sample - loss: 0.2479 - acc: 0.9080 - val_loss: 0.2293 - val_acc: 0.9147\n",
            "Epoch 20/20\n",
            "48000/48000 [==============================] - 2s 33us/sample - loss: 0.2487 - acc: 0.9070 - val_loss: 0.2358 - val_acc: 0.9120\n"
          ],
          "name": "stdout"
        }
      ]
    },
    {
      "cell_type": "code",
      "metadata": {
        "id": "O0kj-Oy3MXtd",
        "colab_type": "code",
        "outputId": "90c2d779-9f4f-40f5-d1ca-ae25ebdb5e41",
        "colab": {
          "base_uri": "https://localhost:8080/",
          "height": 119
        }
      },
      "source": [
        "cv_loss, cv_acc = model_cnn2.evaluate(cv_images, cv_labels)\n",
        "train_loss, train_acc = model_cnn2.evaluate(train_images, train_labels)\n",
        "\n",
        "print(\"Training loss\", train_loss)\n",
        "print(\"Cross Validation loss: \", cv_loss)\n",
        "print(\"Training accuracy\", train_acc)\n",
        "print(\"Cross Validation accuracy: \", cv_acc)"
      ],
      "execution_count": 0,
      "outputs": [
        {
          "output_type": "stream",
          "text": [
            "12000/12000 [==============================] - 1s 51us/sample - loss: 0.2358 - acc: 0.9120\n",
            "48000/48000 [==============================] - 2s 50us/sample - loss: 0.1785 - acc: 0.9345\n",
            "Training loss 0.17849352174966285\n",
            "Cross Validation loss:  0.23582231223583222\n",
            "Training accuracy 0.9345\n",
            "Cross Validation accuracy:  0.912\n"
          ],
          "name": "stdout"
        }
      ]
    },
    {
      "cell_type": "markdown",
      "metadata": {
        "id": "aenp8rOLMohO",
        "colab_type": "text"
      },
      "source": [
        "We get a 91.7% accuracy on the training set and 90.6 accuracy on the CV set. CV accuracy seems to have gone down from the last model. I wonder why...🧐 Loss is looking good though..."
      ]
    },
    {
      "cell_type": "code",
      "metadata": {
        "id": "vJ3CPh0u6335",
        "colab_type": "code",
        "outputId": "362e725b-7819-4082-a47b-e179b4ea57f2",
        "colab": {
          "base_uri": "https://localhost:8080/",
          "height": 521
        }
      },
      "source": [
        "plot_progress(history_cnn2)"
      ],
      "execution_count": 0,
      "outputs": [
        {
          "output_type": "display_data",
          "data": {
            "image/png": "[encoded data removed]",
            "text/plain": [
              "<Figure size 432x288 with 1 Axes>"
            ]
          },
          "metadata": {
            "tags": []
          }
        },
        {
          "output_type": "display_data",
          "data": {
            "image/png": "[encoded data removed]",
            "text/plain": [
              "<Figure size 432x288 with 1 Axes>"
            ]
          },
          "metadata": {
            "tags": []
          }
        }
      ]
    },
    {
      "cell_type": "markdown",
      "metadata": {
        "id": "2FtAMayIp8O6",
        "colab_type": "text"
      },
      "source": [
        "## 4-Conv CNN (`model_cnn3`)\n",
        "\n",
        "This time we use a 4 convolutional layers. I summarise the model below... <br><br>\n",
        "\n",
        "(`conv_layer31`)\\[Conv --> BatchNorm] --> <br>\n",
        "(`conv_layer32`)\\[Conv --> BatchNorm --> MaxPool --> DropOut] => <br>\n",
        "(`conv_layer33`)\\[Conv --> BatchNorm --> Dropout] ---> <br> (`conv_layer34`)\\[Conv --> BatchNorm --> MaxPool --> DropOut]  => <br>\n",
        "Unroll --> <br>\n",
        "(`dense_layer31`)\\[Dense --> BatchNorm --> DropOut] --> <br>(`dense_layer32`)\\[Dense --> BatcNorm --> DropOut] --> <br>(`dense_layer33`)\\[Dense]"
      ]
    },
    {
      "cell_type": "code",
      "metadata": {
        "id": "w-lhVjKIp7T5",
        "colab_type": "code",
        "outputId": "93eaa495-abbc-42b2-9db4-44bf5656182c",
        "colab": {
          "base_uri": "https://localhost:8080/",
          "height": 1000
        }
      },
      "source": [
        "conv_layer31 = keras.Sequential([\n",
        "    keras.layers.Conv2D(32, kernel_size=(3, 3), activation='relu', input_shape=input_shape),\n",
        "    keras.layers.BatchNormalization()\n",
        "], name=\"conv_layer31\")\n",
        "\n",
        "conv_layer32 = keras.Sequential([\n",
        "    keras.layers.Conv2D(64, kernel_size=(3, 3), activation='relu'),\n",
        "    keras.layers.BatchNormalization(),\n",
        "    keras.layers.MaxPooling2D(pool_size=(2, 2)),\n",
        "    keras.layers.Dropout(0.25)\n",
        "], name=\"conv_layer32\")\n",
        "\n",
        "conv_layer33 = keras.Sequential([\n",
        "    keras.layers.Conv2D(128, kernel_size=(3, 3), activation='relu'),\n",
        "    keras.layers.BatchNormalization(),\n",
        "    keras.layers.Dropout(0.25)\n",
        "], name=\"conv_layer33\")\n",
        "\n",
        "conv_layer34 = keras.Sequential([\n",
        "    keras.layers.Conv2D(512, kernel_size=(3, 3), activation='relu'),\n",
        "    keras.layers.BatchNormalization(),\n",
        "    keras.layers.MaxPooling2D(pool_size=(2, 2)),\n",
        "    keras.layers.Dropout(0.25)\n",
        "], name=\"conv_layer34\")\n",
        "\n",
        "dense_layer31 = keras.Sequential([\n",
        "    keras.layers.Dense(512, activation=\"relu\"),\n",
        "    keras.layers.BatchNormalization(),\n",
        "    keras.layers.Dropout(0.5)\n",
        "], name=\"dense_layer31\")\n",
        "\n",
        "dense_layer32 = keras.Sequential([\n",
        "    keras.layers.Dense(128, activation=\"relu\"),\n",
        "    keras.layers.BatchNormalization(),\n",
        "    keras.layers.Dropout(0.5)\n",
        "], name=\"dense_layer32\")\n",
        "\n",
        "dense_layer33 = keras.Sequential([\n",
        "    keras.layers.Dense(num_classes, activation=\"softmax\")\n",
        "], name=\"dense_layer33\")\n",
        "\n",
        "\n",
        "# Bringing everything together...\n",
        "model_cnn3 = keras.Sequential([\n",
        "    \n",
        "    # Conv layers\n",
        "    conv_layer31,\n",
        "    conv_layer32,\n",
        "    conv_layer33,\n",
        "    conv_layer34,\n",
        "    \n",
        "    # Unrolling...\n",
        "    keras.layers.Flatten(),\n",
        "    \n",
        "    # Dense layers\n",
        "    dense_layer31,\n",
        "    dense_layer32,\n",
        "    dense_layer33\n",
        "], name=\"model_cnn3\")\n",
        "\n",
        "print_summary(conv_layer31)\n",
        "print_summary(conv_layer32)\n",
        "print_summary(conv_layer33)\n",
        "print_summary(conv_layer34)\n",
        "print_summary(dense_layer31)\n",
        "print_summary(dense_layer32)\n",
        "print_summary(dense_layer33)\n",
        "print_summary(model_cnn3)"
      ],
      "execution_count": 0,
      "outputs": [
        {
          "output_type": "stream",
          "text": [
            "\n",
            "\n",
            "\n",
            "conv_layer31 summary--\n",
            "Model: \"conv_layer31\"\n",
            "_________________________________________________________________\n",
            "Layer (type)                 Output Shape              Param #   \n",
            "=================================================================\n",
            "conv2d_4 (Conv2D)            (None, 26, 26, 32)        320       \n",
            "_________________________________________________________________\n",
            "batch_normalization (BatchNo (None, 26, 26, 32)        128       \n",
            "=================================================================\n",
            "Total params: 448\n",
            "Trainable params: 384\n",
            "Non-trainable params: 64\n",
            "_________________________________________________________________\n",
            "\n",
            "\n",
            "\n",
            "conv_layer32 summary--\n",
            "Model: \"conv_layer32\"\n",
            "_________________________________________________________________\n",
            "Layer (type)                 Output Shape              Param #   \n",
            "=================================================================\n",
            "conv2d_5 (Conv2D)            (None, 24, 24, 64)        18496     \n",
            "_________________________________________________________________\n",
            "batch_normalization_1 (Batch (None, 24, 24, 64)        256       \n",
            "_________________________________________________________________\n",
            "max_pooling2d_3 (MaxPooling2 (None, 12, 12, 64)        0         \n",
            "_________________________________________________________________\n",
            "dropout_5 (Dropout)          (None, 12, 12, 64)        0         \n",
            "=================================================================\n",
            "Total params: 18,752\n",
            "Trainable params: 18,624\n",
            "Non-trainable params: 128\n",
            "_________________________________________________________________\n",
            "\n",
            "\n",
            "\n",
            "conv_layer33 summary--\n",
            "Model: \"conv_layer33\"\n",
            "_________________________________________________________________\n",
            "Layer (type)                 Output Shape              Param #   \n",
            "=================================================================\n",
            "conv2d_6 (Conv2D)            (None, 10, 10, 128)       73856     \n",
            "_________________________________________________________________\n",
            "batch_normalization_2 (Batch (None, 10, 10, 128)       512       \n",
            "_________________________________________________________________\n",
            "dropout_6 (Dropout)          (None, 10, 10, 128)       0         \n",
            "=================================================================\n",
            "Total params: 74,368\n",
            "Trainable params: 74,112\n",
            "Non-trainable params: 256\n",
            "_________________________________________________________________\n",
            "\n",
            "\n",
            "\n",
            "conv_layer34 summary--\n",
            "Model: \"conv_layer34\"\n",
            "_________________________________________________________________\n",
            "Layer (type)                 Output Shape              Param #   \n",
            "=================================================================\n",
            "conv2d_7 (Conv2D)            (None, 8, 8, 512)         590336    \n",
            "_________________________________________________________________\n",
            "batch_normalization_3 (Batch (None, 8, 8, 512)         2048      \n",
            "_________________________________________________________________\n",
            "max_pooling2d_4 (MaxPooling2 (None, 4, 4, 512)         0         \n",
            "_________________________________________________________________\n",
            "dropout_7 (Dropout)          (None, 4, 4, 512)         0         \n",
            "=================================================================\n",
            "Total params: 592,384\n",
            "Trainable params: 591,360\n",
            "Non-trainable params: 1,024\n",
            "_________________________________________________________________\n",
            "\n",
            "\n",
            "\n",
            "dense_layer31 summary--\n",
            "Model: \"dense_layer31\"\n",
            "_________________________________________________________________\n",
            "Layer (type)                 Output Shape              Param #   \n",
            "=================================================================\n",
            "dense_4 (Dense)              (None, 512)               4194816   \n",
            "_________________________________________________________________\n",
            "batch_normalization_4 (Batch (None, 512)               2048      \n",
            "_________________________________________________________________\n",
            "dropout_8 (Dropout)          (None, 512)               0         \n",
            "=================================================================\n",
            "Total params: 4,196,864\n",
            "Trainable params: 4,195,840\n",
            "Non-trainable params: 1,024\n",
            "_________________________________________________________________\n",
            "\n",
            "\n",
            "\n",
            "dense_layer32 summary--\n",
            "Model: \"dense_layer32\"\n",
            "_________________________________________________________________\n",
            "Layer (type)                 Output Shape              Param #   \n",
            "=================================================================\n",
            "dense_5 (Dense)              (None, 128)               65664     \n",
            "_________________________________________________________________\n",
            "batch_normalization_5 (Batch (None, 128)               512       \n",
            "_________________________________________________________________\n",
            "dropout_9 (Dropout)          (None, 128)               0         \n",
            "=================================================================\n",
            "Total params: 66,176\n",
            "Trainable params: 65,920\n",
            "Non-trainable params: 256\n",
            "_________________________________________________________________\n",
            "\n",
            "\n",
            "\n",
            "dense_layer33 summary--\n",
            "Model: \"dense_layer33\"\n",
            "_________________________________________________________________\n",
            "Layer (type)                 Output Shape              Param #   \n",
            "=================================================================\n",
            "dense_6 (Dense)              (None, 10)                1290      \n",
            "=================================================================\n",
            "Total params: 1,290\n",
            "Trainable params: 1,290\n",
            "Non-trainable params: 0\n",
            "_________________________________________________________________\n",
            "\n",
            "\n",
            "\n",
            "model_cnn3 summary--\n",
            "Model: \"model_cnn3\"\n",
            "_________________________________________________________________\n",
            "Layer (type)                 Output Shape              Param #   \n",
            "=================================================================\n",
            "conv_layer31 (Sequential)    (None, 26, 26, 32)        448       \n",
            "_________________________________________________________________\n",
            "conv_layer32 (Sequential)    (None, 12, 12, 64)        18752     \n",
            "_________________________________________________________________\n",
            "conv_layer33 (Sequential)    (None, 10, 10, 128)       74368     \n",
            "_________________________________________________________________\n",
            "conv_layer34 (Sequential)    (None, 4, 4, 512)         592384    \n",
            "_________________________________________________________________\n",
            "flatten_2 (Flatten)          (None, 8192)              0         \n",
            "_________________________________________________________________\n",
            "dense_layer31 (Sequential)   (None, 512)               4196864   \n",
            "_________________________________________________________________\n",
            "dense_layer32 (Sequential)   (None, 128)               66176     \n",
            "_________________________________________________________________\n",
            "dense_layer33 (Sequential)   (None, 10)                1290      \n",
            "=================================================================\n",
            "Total params: 4,950,282\n",
            "Trainable params: 4,947,530\n",
            "Non-trainable params: 2,752\n",
            "_________________________________________________________________\n"
          ],
          "name": "stdout"
        }
      ]
    },
    {
      "cell_type": "code",
      "metadata": {
        "id": "wOqEiqiNkd_O",
        "colab_type": "code",
        "outputId": "49ef1eeb-790d-426f-af6d-e097662a99ae",
        "colab": {
          "base_uri": "https://localhost:8080/",
          "height": 714
        }
      },
      "source": [
        "model_cnn3.compile(loss=\"sparse_categorical_crossentropy\", optimizer=\"adam\", metrics=[\"accuracy\"])\n",
        "\n",
        "history_cnn3 = model_cnn3.fit(train_images, train_labels, epochs=epochs, \n",
        "                              validation_data=(cv_images, cv_labels), batch_size=batch_size)"
      ],
      "execution_count": 0,
      "outputs": [
        {
          "output_type": "stream",
          "text": [
            "Train on 48000 samples, validate on 12000 samples\n",
            "Epoch 1/20\n",
            "48000/48000 [==============================] - 11s 219us/sample - loss: 0.6300 - acc: 0.7827 - val_loss: 3.0631 - val_acc: 0.1001\n",
            "Epoch 2/20\n",
            "48000/48000 [==============================] - 9s 186us/sample - loss: 0.3751 - acc: 0.8673 - val_loss: 1.9780 - val_acc: 0.4383\n",
            "Epoch 3/20\n",
            "48000/48000 [==============================] - 9s 187us/sample - loss: 0.3078 - acc: 0.8918 - val_loss: 0.4345 - val_acc: 0.8349\n",
            "Epoch 4/20\n",
            "48000/48000 [==============================] - 9s 189us/sample - loss: 0.2805 - acc: 0.9016 - val_loss: 0.2480 - val_acc: 0.9100\n",
            "Epoch 5/20\n",
            "48000/48000 [==============================] - 9s 190us/sample - loss: 0.2483 - acc: 0.9126 - val_loss: 0.2480 - val_acc: 0.9108\n",
            "Epoch 6/20\n",
            "48000/48000 [==============================] - 9s 190us/sample - loss: 0.2322 - acc: 0.9174 - val_loss: 0.2465 - val_acc: 0.9140\n",
            "Epoch 7/20\n",
            "48000/48000 [==============================] - 9s 190us/sample - loss: 0.2154 - acc: 0.9241 - val_loss: 0.2292 - val_acc: 0.9173\n",
            "Epoch 8/20\n",
            "48000/48000 [==============================] - 9s 189us/sample - loss: 0.1964 - acc: 0.9300 - val_loss: 0.2873 - val_acc: 0.9003\n",
            "Epoch 9/20\n",
            "48000/48000 [==============================] - 9s 188us/sample - loss: 0.1913 - acc: 0.9305 - val_loss: 0.2680 - val_acc: 0.9133\n",
            "Epoch 10/20\n",
            "48000/48000 [==============================] - 9s 189us/sample - loss: 0.1819 - acc: 0.9345 - val_loss: 0.2218 - val_acc: 0.9262\n",
            "Epoch 11/20\n",
            "48000/48000 [==============================] - 9s 186us/sample - loss: 0.1685 - acc: 0.9405 - val_loss: 0.2344 - val_acc: 0.9212\n",
            "Epoch 12/20\n",
            "48000/48000 [==============================] - 9s 186us/sample - loss: 0.1598 - acc: 0.9431 - val_loss: 0.3412 - val_acc: 0.9164\n",
            "Epoch 13/20\n",
            "48000/48000 [==============================] - 9s 187us/sample - loss: 0.1512 - acc: 0.9457 - val_loss: 0.2259 - val_acc: 0.9238\n",
            "Epoch 14/20\n",
            "48000/48000 [==============================] - 9s 187us/sample - loss: 0.1457 - acc: 0.9486 - val_loss: 0.2377 - val_acc: 0.9222\n",
            "Epoch 15/20\n",
            "48000/48000 [==============================] - 9s 187us/sample - loss: 0.1360 - acc: 0.9509 - val_loss: 0.2705 - val_acc: 0.9164\n",
            "Epoch 16/20\n",
            "48000/48000 [==============================] - 9s 187us/sample - loss: 0.1310 - acc: 0.9527 - val_loss: 0.2551 - val_acc: 0.9221\n",
            "Epoch 17/20\n",
            "48000/48000 [==============================] - 9s 187us/sample - loss: 0.1197 - acc: 0.9581 - val_loss: 0.2436 - val_acc: 0.9249\n",
            "Epoch 18/20\n",
            "48000/48000 [==============================] - 9s 187us/sample - loss: 0.1176 - acc: 0.9580 - val_loss: 0.2422 - val_acc: 0.9258\n",
            "Epoch 19/20\n",
            "48000/48000 [==============================] - 9s 187us/sample - loss: 0.1106 - acc: 0.9605 - val_loss: 0.2298 - val_acc: 0.9296\n",
            "Epoch 20/20\n",
            "48000/48000 [==============================] - 9s 187us/sample - loss: 0.1029 - acc: 0.9627 - val_loss: 0.2452 - val_acc: 0.9276\n"
          ],
          "name": "stdout"
        }
      ]
    },
    {
      "cell_type": "code",
      "metadata": {
        "id": "bU7NJBuPNnVk",
        "colab_type": "code",
        "outputId": "0e3c5d37-6c7f-4024-9e44-3a0ea1ee82e8",
        "colab": {
          "base_uri": "https://localhost:8080/",
          "height": 119
        }
      },
      "source": [
        "cv_loss, cv_acc = model_cnn3.evaluate(cv_images, cv_labels)\n",
        "train_loss, train_acc = model_cnn3.evaluate(train_images, train_labels)\n",
        "\n",
        "print(\"Training loss\", train_loss)\n",
        "print(\"Cross Validation loss: \", cv_loss)\n",
        "print(\"Training accuracy\", train_acc)\n",
        "print(\"Cross Validation accuracy: \", cv_acc)"
      ],
      "execution_count": 0,
      "outputs": [
        {
          "output_type": "stream",
          "text": [
            "12000/12000 [==============================] - 1s 87us/sample - loss: 0.2452 - acc: 0.9276\n",
            "48000/48000 [==============================] - 4s 84us/sample - loss: 0.0495 - acc: 0.9823\n",
            "Training loss 0.049512997156668764\n",
            "Cross Validation loss:  0.24520523769160113\n",
            "Training accuracy 0.98229164\n",
            "Cross Validation accuracy:  0.92758334\n"
          ],
          "name": "stdout"
        }
      ]
    },
    {
      "cell_type": "markdown",
      "metadata": {
        "id": "v3ZR9xJYNuYC",
        "colab_type": "text"
      },
      "source": [
        "Okay, so after 20 iterations our training accuracy is now a whopping 97% and CV accuracy is at a 94%. Looking at the loss graph below, it seems that the loss had started to increase in the last few epochs."
      ]
    },
    {
      "cell_type": "code",
      "metadata": {
        "id": "p8FZ8jnMjQYb",
        "colab_type": "code",
        "outputId": "4e44d499-62cb-427f-ef30-e438f91a9f29",
        "colab": {
          "base_uri": "https://localhost:8080/",
          "height": 521
        }
      },
      "source": [
        "plot_progress(history_cnn3)"
      ],
      "execution_count": 0,
      "outputs": [
        {
          "output_type": "display_data",
          "data": {
            "image/png": "[encoded data removed]",
            "text/plain": [
              "<Figure size 432x288 with 1 Axes>"
            ]
          },
          "metadata": {
            "tags": []
          }
        },
        {
          "output_type": "display_data",
          "data": {
            "image/png": "[encoded data removed]",
            "text/plain": [
              "<Figure size 432x288 with 1 Axes>"
            ]
          },
          "metadata": {
            "tags": []
          }
        }
      ]
    },
    {
      "cell_type": "markdown",
      "metadata": {
        "id": "_vvhwxNf9zW6",
        "colab_type": "text"
      },
      "source": [
        "We next plot each of the 4 metrics - Training loss, training accuracy, CV loss, CV accuracy for all three models and try to discover any underlying trends. There is nothing out of the oridinary here, except for the fact that `model_cnn2` seems to perform poorly on the training set for some reason. I wonder why...🧐"
      ]
    },
    {
      "cell_type": "code",
      "metadata": {
        "id": "HSm5stZLxmNK",
        "colab_type": "code",
        "outputId": "1ef9245b-6104-4456-a42b-3fcefeec2060",
        "colab": {
          "base_uri": "https://localhost:8080/",
          "height": 1000
        }
      },
      "source": [
        "plot_metric_across_models((history_cnn1, history_cnn2, history_cnn3), 'acc', ('r', 'b', 'g'))\n",
        "plot_metric_across_models((history_cnn1, history_cnn2, history_cnn3), 'val_acc', ('r', 'b', 'g'))\n",
        "plot_metric_across_models((history_cnn1, history_cnn2, history_cnn3), 'loss', ('r', 'b', 'g'))\n",
        "plot_metric_across_models((history_cnn1, history_cnn2, history_cnn3), 'val_loss', ('r', 'b', 'g'))"
      ],
      "execution_count": 0,
      "outputs": [
        {
          "output_type": "display_data",
          "data": {
            "image/png": "[encoded data removed]",
            "text/plain": [
              "<Figure size 432x288 with 1 Axes>"
            ]
          },
          "metadata": {
            "tags": []
          }
        },
        {
          "output_type": "display_data",
          "data": {
            "image/png": "[encoded data removed]",
            "text/plain": [
              "<Figure size 432x288 with 1 Axes>"
            ]
          },
          "metadata": {
            "tags": []
          }
        },
        {
          "output_type": "display_data",
          "data": {
            "image/png": "[encoded data removed]",
            "text/plain": [
              "<Figure size 432x288 with 1 Axes>"
            ]
          },
          "metadata": {
            "tags": []
          }
        },
        {
          "output_type": "display_data",
          "data": {
            "image/png": "[encoded data removed]",
            "text/plain": [
              "<Figure size 432x288 with 1 Axes>"
            ]
          },
          "metadata": {
            "tags": []
          }
        }
      ]
    },
    {
      "cell_type": "markdown",
      "metadata": {
        "id": "UM1xkv9BzYqV",
        "colab_type": "text"
      },
      "source": [
        "## Data Augmentation\n",
        "\n",
        "We now perform a series a data augmentations. Data Augmentation is a collection of crafty techniques that can be used to populate our training data. This is helpful if we have a modest dataset to work with. Simple models work well with a lot of training data. Since our models **are** simple, this is something we can use in this situation."
      ]
    },
    {
      "cell_type": "code",
      "metadata": {
        "id": "Rfil4DudzO4L",
        "colab_type": "code",
        "colab": {}
      },
      "source": [
        "from keras.preprocessing.image import ImageDataGenerator\n",
        "\n",
        "generator = ImageDataGenerator(rotation_range=8, width_shift_range=0.08, shear_range=0.3,\n",
        "                              height_shift_range=0.08, zoom_range=0.08)\n",
        "\n",
        "train_batches = generator.flow(train_images, train_labels, batch_size=256)\n",
        "val_batches = generator.flow(cv_images, cv_labels, batch_size=256)"
      ],
      "execution_count": 0,
      "outputs": []
    },
    {
      "cell_type": "markdown",
      "metadata": {
        "id": "ZdhjI1t839DV",
        "colab_type": "text"
      },
      "source": [
        "We now proceed to further train our models on this new data. This should definitely improve our models, make them more robust."
      ]
    },
    {
      "cell_type": "code",
      "metadata": {
        "id": "uOakYz1730Tf",
        "colab_type": "code",
        "colab": {}
      },
      "source": [
        "history_cnn12 = model_cnn1.fit_generator(train_batches, epochs=50, \n",
        "                                         validation_data=val_batches, use_multiprocessing=True)"
      ],
      "execution_count": 0,
      "outputs": []
    },
    {
      "cell_type": "code",
      "metadata": {
        "id": "-aR8gsUh4fXh",
        "colab_type": "code",
        "colab": {}
      },
      "source": [
        "history_cnn22 = model_cnn2.fit_generator(train_batches, epochs=50, \n",
        "                                         validation_data=val_batches, use_multiprocessing=True)"
      ],
      "execution_count": 0,
      "outputs": []
    },
    {
      "cell_type": "code",
      "metadata": {
        "id": "J2Nn88pd4_hN",
        "colab_type": "code",
        "colab": {}
      },
      "source": [
        "history_cnn32 = model_cnn3.fit_generator(train_batches, epochs=50, \n",
        "                                         validation_data=val_batches, use_multiprocessing=True)"
      ],
      "execution_count": 0,
      "outputs": []
    },
    {
      "cell_type": "code",
      "metadata": {
        "id": "c1zI0put5CRb",
        "colab_type": "code",
        "colab": {}
      },
      "source": [
        "cv_loss, cv_acc = model_cnn1.evaluate(train_batches)\n",
        "train_loss, train_acc = model_cnn1.evaluate(val_batches)\n",
        "\n",
        "print(\"Training loss\", train_loss)\n",
        "print(\"Cross Validation loss: \", cv_loss)\n",
        "print(\"Training accuracy\", train_acc)\n",
        "print(\"Cross Validation accuracy: \", cv_acc)\n",
        "plot_progress(history_cnn12)"
      ],
      "execution_count": 0,
      "outputs": []
    },
    {
      "cell_type": "markdown",
      "metadata": {
        "id": "yA5Ic9ZyTjUY",
        "colab_type": "text"
      },
      "source": [
        "Nothing interesting here, except for the increase in the training loss (0.1419 ----> 0.259). Accuracy is somewhat similar to what we saw earlier."
      ]
    },
    {
      "cell_type": "code",
      "metadata": {
        "id": "ePi4g1Av5XU_",
        "colab_type": "code",
        "colab": {}
      },
      "source": [
        "cv_loss, cv_acc = model_cnn2.evaluate(train_batches)\n",
        "train_loss, train_acc = model_cnn2.evaluate(val_batches)\n",
        "\n",
        "print(\"Training loss\", train_loss)\n",
        "print(\"Cross Validation loss: \", cv_loss)\n",
        "print(\"Training accuracy\", train_acc)\n",
        "print(\"Cross Validation accuracy: \", cv_acc)\n",
        "plot_progress(history_cnn22)"
      ],
      "execution_count": 0,
      "outputs": []
    },
    {
      "cell_type": "markdown",
      "metadata": {
        "id": "02K5l3yfT5tP",
        "colab_type": "text"
      },
      "source": [
        "Loss went down and accuracy went up. Data augmentation seems to have somewhat improvevd `model_cnn2`."
      ]
    },
    {
      "cell_type": "code",
      "metadata": {
        "id": "TA-_v6DU_-Ss",
        "colab_type": "code",
        "colab": {}
      },
      "source": [
        "cv_loss, cv_acc = model_cnn3.evaluate(train_batches)\n",
        "train_loss, train_acc = model_cnn3.evaluate(val_batches)\n",
        "\n",
        "print(\"Training loss\", train_loss)\n",
        "print(\"Cross Validation loss: \", cv_loss)\n",
        "print(\"Training accuracy\", train_acc)\n",
        "print(\"Cross Validation accuracy: \", cv_acc)\n",
        "plot_progress(history_cnn32)"
      ],
      "execution_count": 0,
      "outputs": []
    },
    {
      "cell_type": "markdown",
      "metadata": {
        "id": "1ReSQ7TrSMc8",
        "colab_type": "text"
      },
      "source": [
        "Training loss and accuracy went somewhat down, but there's also an increase in CV metrics for `model_cnn3`."
      ]
    },
    {
      "cell_type": "code",
      "metadata": {
        "id": "KrGjfQA1AAaQ",
        "colab_type": "code",
        "colab": {}
      },
      "source": [
        "plot_metric_across_models((history_cnn12, history_cnn22, history_cnn32), 'acc', ('r', 'b', 'g'))\n",
        "plot_metric_across_models((history_cnn12, history_cnn22, history_cnn32), 'val_acc', ('r', 'b', 'g'))\n",
        "plot_metric_across_models((history_cnn12, history_cnn22, history_cnn32), 'loss', ('r', 'b', 'g'))\n",
        "plot_metric_across_models((history_cnn12, history_cnn22, history_cnn32), 'val_loss', ('r', 'b', 'g'))"
      ],
      "execution_count": 0,
      "outputs": []
    },
    {
      "cell_type": "markdown",
      "metadata": {
        "id": "oHu_yUv2VAzh",
        "colab_type": "text"
      },
      "source": [
        "Looking at this data, `model_cnn3` seems to do exceptionally well than than `model_cnn2` and `model_cnn1` on augmented data. Once again, `model_cnn2` performs worst on training data. I cannot understand why."
      ]
    },
    {
      "cell_type": "markdown",
      "metadata": {
        "id": "DMALpkjNYf13",
        "colab_type": "text"
      },
      "source": [
        "## Performance on the test set"
      ]
    },
    {
      "cell_type": "code",
      "metadata": {
        "id": "qCr7CAbXYfS_",
        "colab_type": "code",
        "colab": {}
      },
      "source": [
        "test_loss, test_acc = model_cnn1.evaluate(test_images, test_labels)\n",
        "\n",
        "print(\"For model_cnn1...\")\n",
        "print(\"Test loss\", test_loss)\n",
        "print(\"Test accuracy: \", test_acc)\n",
        "print(\"\\n\")\n",
        "\n",
        "test_loss, test_acc = model_cnn2.evaluate(test_images, test_labels)\n",
        "\n",
        "print(\"For model_cnn2...\")\n",
        "print(\"Test loss\", test_loss)\n",
        "print(\"Test accuracy: \", test_acc)\n",
        "print(\"\\n\")\n",
        "\n",
        "test_loss, test_acc = model_cnn3.evaluate(test_images, test_labels)\n",
        "\n",
        "print(\"For model_cnn3...\")\n",
        "print(\"Test loss\", test_loss)\n",
        "print(\"Test accuracy: \", test_acc)\n",
        "print(\"\\n\")"
      ],
      "execution_count": 0,
      "outputs": []
    },
    {
      "cell_type": "markdown",
      "metadata": {
        "id": "aP3HuA7KZt1A",
        "colab_type": "text"
      },
      "source": [
        "The results speak for themselves; `model_cnn3` performs best."
      ]
    },
    {
      "cell_type": "markdown",
      "metadata": {
        "id": "DH3XeCxqVorT",
        "colab_type": "text"
      },
      "source": [
        "## Saving the model"
      ]
    },
    {
      "cell_type": "code",
      "metadata": {
        "id": "AaDYoANtDu6o",
        "colab_type": "code",
        "colab": {}
      },
      "source": [
        "from keras.models import model_from_json\n",
        "\n",
        "def save_model(model):\n",
        "  model_json = model.to_json()\n",
        "  with open(model.name+\".json\", \"w\") as json_file:\n",
        "    json_file.write(model_json)\n",
        "  model.save_weights(model.name+\".h5\")\n",
        "  print(model.name + \" has been saved to disk\")"
      ],
      "execution_count": 0,
      "outputs": []
    },
    {
      "cell_type": "code",
      "metadata": {
        "id": "llDQfkv0EU5z",
        "colab_type": "code",
        "colab": {}
      },
      "source": [
        "save_model(model_cnn1)\n",
        "save_model(model_cnn2)\n",
        "save_model(model_cnn3)"
      ],
      "execution_count": 0,
      "outputs": []
    },
    {
      "cell_type": "code",
      "metadata": {
        "id": "va7CPuZC-4BR",
        "colab_type": "code",
        "colab": {}
      },
      "source": [
        ""
      ],
      "execution_count": 0,
      "outputs": []
    },
    {
      "cell_type": "code",
      "metadata": {
        "id": "qZoeJj8F-3-Z",
        "colab_type": "code",
        "outputId": "c8eb7a03-8d03-4994-88f4-bbf6fcbd3fca",
        "colab": {
          "base_uri": "https://localhost:8080/",
          "height": 68
        }
      },
      "source": [
        "train_loss1, train_acc1 = model_cnn1.evaluate(train_images, train_labels)\n",
        "train_loss2, train_acc2 = model_cnn2.evaluate(train_images, train_labels)\n",
        "train_loss3, train_acc3 = model_cnn3.evaluate(train_images, train_labels)"
      ],
      "execution_count": 0,
      "outputs": [
        {
          "output_type": "stream",
          "text": [
            "48000/48000 [==============================] - 3s 57us/sample - loss: 0.0876 - acc: 0.9707\n",
            "48000/48000 [==============================] - 3s 57us/sample - loss: 0.1785 - acc: 0.9345\n",
            "48000/48000 [==============================] - 4s 87us/sample - loss: 0.0495 - acc: 0.9823\n"
          ],
          "name": "stdout"
        }
      ]
    },
    {
      "cell_type": "code",
      "metadata": {
        "id": "8T8t23iS-36H",
        "colab_type": "code",
        "outputId": "099238e2-557c-47d6-ae05-ba563cb80126",
        "colab": {
          "base_uri": "https://localhost:8080/",
          "height": 270
        }
      },
      "source": [
        "X = (\"model_cnn1\", \"model_cnn2\", \"model_cnn3\")\n",
        "Y = (train_loss1, train_loss2, train_loss3)\n",
        "plt.bar(X, Y, color=('r', 'b', 'g'))\n",
        "plt.ylabel(\"training loss after model.evaluate\")\n",
        "plt.show()"
      ],
      "execution_count": 0,
      "outputs": [
        {
          "output_type": "display_data",
          "data": {
            "image/png": "[encoded data removed]",
            "text/plain": [
              "<Figure size 432x288 with 1 Axes>"
            ]
          },
          "metadata": {
            "tags": []
          }
        }
      ]
    },
    {
      "cell_type": "code",
      "metadata": {
        "id": "yHEtE9Aj-33Q",
        "colab_type": "code",
        "outputId": "9db4abbd-736c-4a6e-bbd9-4c217e40244c",
        "colab": {
          "base_uri": "https://localhost:8080/",
          "height": 270
        }
      },
      "source": [
        "X = (\"model_cnn1\", \"model_cnn2\", \"model_cnn3\")\n",
        "Y = (train_acc1, train_acc2, train_acc3)\n",
        "plt.bar(X, Y, color=('r', 'b', 'g'))\n",
        "plt.axis([None, None, 0.9, None])\n",
        "plt.ylabel(\"training acc after model.evaluate\")\n",
        "plt.show()"
      ],
      "execution_count": 0,
      "outputs": [
        {
          "output_type": "display_data",
          "data": {
            "image/png": "[encoded data removed]",
            "text/plain": [
              "<Figure size 432x288 with 1 Axes>"
            ]
          },
          "metadata": {
            "tags": []
          }
        }
      ]
    },
    {
      "cell_type": "code",
      "metadata": {
        "id": "HxHlF1zX-30i",
        "colab_type": "code",
        "outputId": "d4a83a05-90b5-44a3-e5c1-a938bf47558b",
        "colab": {
          "base_uri": "https://localhost:8080/",
          "height": 164
        }
      },
      "source": [
        ""
      ],
      "execution_count": 0,
      "outputs": [
        {
          "output_type": "error",
          "ename": "TypeError",
          "evalue": "ignored",
          "traceback": [
            "\u001b[0;31m---------------------------------------------------------------------------\u001b[0m",
            "\u001b[0;31mTypeError\u001b[0m                                 Traceback (most recent call last)",
            "\u001b[0;32m<ipython-input-32-55db6baa4bd6>\u001b[0m in \u001b[0;36m<module>\u001b[0;34m()\u001b[0m\n\u001b[0;32m----> 1\u001b[0;31m \u001b[0mY\u001b[0m \u001b[0;34m-\u001b[0m \u001b[0;36m0.9\u001b[0m\u001b[0;34m\u001b[0m\u001b[0;34m\u001b[0m\u001b[0m\n\u001b[0m",
            "\u001b[0;31mTypeError\u001b[0m: unsupported operand type(s) for -: 'tuple' and 'float'"
          ]
        }
      ]
    },
    {
      "cell_type": "code",
      "metadata": {
        "id": "5PTTJSDx-3wl",
        "colab_type": "code",
        "colab": {}
      },
      "source": [
        ""
      ],
      "execution_count": 0,
      "outputs": []
    },
    {
      "cell_type": "code",
      "metadata": {
        "id": "iwOjRjsv-3C9",
        "colab_type": "code",
        "colab": {}
      },
      "source": [
        ""
      ],
      "execution_count": 0,
      "outputs": []
    }
  ]
}